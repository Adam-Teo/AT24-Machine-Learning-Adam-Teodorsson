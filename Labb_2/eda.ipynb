{
 "cells": [
  {
   "cell_type": "code",
   "execution_count": 5,
   "metadata": {},
   "outputs": [],
   "source": [
    "# eda.ipynb \n",
    "# behöver inte lämnas in\n",
    "from functools import lru_cache as cache\n",
    "import pandas as pd \n",
    "\n",
    "@cache\n",
    "def readin():\n",
    "    return pd.read_csv(\"data/ratings.csv\")\n",
    "ratings = readin()"
   ]
  }
 ],
 "metadata": {
  "kernelspec": {
   "display_name": ".venv",
   "language": "python",
   "name": "python3"
  },
  "language_info": {
   "codemirror_mode": {
    "name": "ipython",
    "version": 3
   },
   "file_extension": ".py",
   "mimetype": "text/x-python",
   "name": "python",
   "nbconvert_exporter": "python",
   "pygments_lexer": "ipython3",
   "version": "3.12.5"
  }
 },
 "nbformat": 4,
 "nbformat_minor": 2
}

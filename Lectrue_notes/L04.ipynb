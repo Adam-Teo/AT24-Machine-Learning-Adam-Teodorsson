{
 "cells": [
  {
   "cell_type": "code",
   "execution_count": null,
   "metadata": {},
   "outputs": [
    {
     "data": {
      "text/plain": [
       "((134, 19), (66, 19), (134,), (66,))"
      ]
     },
     "execution_count": 2,
     "metadata": {},
     "output_type": "execute_result"
    }
   ],
   "source": [
    "import numpy as np \n",
    "import pandas as pd \n",
    "import matplotlib.pyplot as plt \n",
    "from sklearn.preprocessing import PolynomialFeatures\n",
    "from sklearn.model_selection import train_test_split\n",
    "\n",
    "df = pd.read_csv(\"../data/Advertising.csv\", index_col=0)\n",
    "X, y  = df.drop(\"Sales\", axis=1), df[\"Sales\"]\n",
    "\n",
    "#Polonimiell Feature Expansion\n",
    "model_poly = PolynomialFeatures(3, include_bias=False) \n",
    "# 3an gör att våra 3 features blir 19 styken vilket troligtvis leder till overfit \n",
    "poly_features = model_poly.fit_transform(X)\n",
    "\n",
    "X_train, X_test, y_train, y_test = train_test_split(poly_features, y, test_size=0.33, random_state=42)\n",
    "\n",
    "X_train.shape, X_test.shape, y_train.shape, y_test.shape"
   ]
  },
  {
   "cell_type": "code",
   "execution_count": 3,
   "metadata": {},
   "outputs": [
    {
     "ename": "TypeError",
     "evalue": "TransformerMixin.fit_transform() missing 1 required positional argument: 'X'",
     "output_type": "error",
     "traceback": [
      "\u001b[1;31m---------------------------------------------------------------------------\u001b[0m",
      "\u001b[1;31mTypeError\u001b[0m                                 Traceback (most recent call last)",
      "Cell \u001b[1;32mIn[3], line 5\u001b[0m\n\u001b[0;32m      2\u001b[0m \u001b[38;5;28;01mfrom\u001b[39;00m \u001b[38;5;21;01msklearn\u001b[39;00m\u001b[38;5;21;01m.\u001b[39;00m\u001b[38;5;21;01mpreprocessing\u001b[39;00m \u001b[38;5;28;01mimport\u001b[39;00m StandardScaler\n\u001b[0;32m      4\u001b[0m scaler \u001b[38;5;241m=\u001b[39m StandardScaler\n\u001b[1;32m----> 5\u001b[0m scale_x_train \u001b[38;5;241m=\u001b[39m \u001b[43mscaler\u001b[49m\u001b[38;5;241;43m.\u001b[39;49m\u001b[43mfit_transform\u001b[49m\u001b[43m(\u001b[49m\u001b[43mX_train\u001b[49m\u001b[43m)\u001b[49m\n\u001b[0;32m      6\u001b[0m scaled_x_test \u001b[38;5;241m=\u001b[39m scaler\u001b[38;5;241m.\u001b[39mtransform(X_test)\n\u001b[0;32m      7\u001b[0m \u001b[38;5;66;03m# Vi moste använda samma scalärisering på träningsdatan som på testdatan\u001b[39;00m\n",
      "\u001b[1;31mTypeError\u001b[0m: TransformerMixin.fit_transform() missing 1 required positional argument: 'X'"
     ]
    }
   ],
   "source": [
    "# Vi behöver skalera annars kommer vår modell att dominiaras av features med höga värden\n",
    "from sklearn.preprocessing import StandardScaler\n",
    "\n",
    "scaler = StandardScaler\n",
    "scale_x_train = scaler.fit_transform(X_train)\n",
    "scaled_x_test = scaler.transform(X_test)\n",
    "# Vi moste använda samma scalärisering på träningsdatan som på testdatan\n",
    "print(f\"Scaled X_train mean {scaled_X_train.mean}\")\n",
    "# Det är okej om vi inte får samma nummer för vi kan ha andra extremvärden på test och train men vi \n",
    "# måste avnända samma scalersering på båda \n",
    "\n",
    "# Notera att även om vi skallerat så kan värdena går över 1"
   ]
  },
  {
   "cell_type": "code",
   "execution_count": null,
   "metadata": {},
   "outputs": [],
   "source": [
    "# L2 Normen\n",
    "from sklearn.linear_model import Ridge\n",
    "from sklearn.metrics import mean_squared_error, mean_absolute_error\n",
    "\n",
    "# Penalty 0 = alpha = 0 = vanlilg linjär regression\n",
    "# Notera att ridge-regression har bytt namn på alpha och lambda\n",
    "# Notera att det finns tillfällen då man vill skalera y\n",
    "def ridge_regression(X, penalty=0):\n",
    "    model_ridge = Ridge(alpha_penalty)\n",
    "    model_ridge.fit(scaled_x_train, y_train)\n",
    "    y_pred = model_ridge.predict(X)\n",
    "    return y_pred\n",
    "y_pred = ridge_regression(scaled_x_test, penalty=0)\n",
    "\n",
    "MSE = mean_squared_error(y_test, y_pred)\n",
    "RMSE = np.sqrt(MSE)\n",
    "MAE = mean_absolute_error(y_test, y_pred)\n",
    "MSE, float(RMSE), MAE\n",
    "# Ovan är exepmeö på en vanlig linjär regerison, om vi sätter penalty =0.2 \n",
    "# så får vi en .... regression"
   ]
  },
  {
   "cell_type": "code",
   "execution_count": null,
   "metadata": {},
   "outputs": [],
   "source": [
    "from sklearn.linear_model import Lasso\n",
    "model_lasso = Lasso(alpha=.1)\n",
    "model_lasso.fit(scaled_X_train, y_train)\n",
    "np.sqrt(mean_squared_error(y_test, y_pred)), mean_absolute_error(y_test, y_pred)\n",
    "model_lasso.coef_\n",
    "# Resultate av MSE ser inte så bra ut men lasso har lyckats ta bort en del av \n",
    "# de 19 feature"
   ]
  },
  {
   "cell_type": "code",
   "execution_count": null,
   "metadata": {},
   "outputs": [],
   "source": [
    "# Hyperparameter Optimering\n",
    "# Ovan kan vi sitta och pilla med värden hur länge som helst,\n",
    "# men vad vi vill göra är att automatisera processen\n",
    "\n",
    "# K-Fold kross validation För Ridge\n",
    "# väldigt bra metod men ochså väldigt kostsam\n",
    "\n",
    "from sklearn.linear_model import RidgeCV\n",
    "model_ridgeCV = RidgeCV(alpgas=[.0001, .001, .01, .1, .5, 1, 5, 10]), scoring=\"neg_mean_squared_error\"\n",
    "model_ridgeCV.fit(scaled_X_train, y_train)\n",
    "print(model_ridgeCV.alpha)\n",
    "# Det visar sige att penalty = 0.1 är optimalt för ridge"
   ]
  },
  {
   "cell_type": "code",
   "execution_count": null,
   "metadata": {},
   "outputs": [],
   "source": [
    "from sklearn.linear_model import LassoCV\n",
    "\n",
    "# K-Fold kross validation För \n",
    "# väldigt bra metod men ochså väldigt kostsam\n",
    "\n",
    "# stänger av om den kör mer än max_iter s[ den inte fastnar i en lop]\n",
    "# cv = hur m[nga grupper]\n",
    "model_lassoCV = LassoCV(eps=0.001, n_alphas=100, max_iter=1000, cv=5)\n",
    "model_lassoCV.fit(scaled_X_train, y_train)\n",
    "\n",
    "y.pred = model_lassoCV.predict(scaled_X_test)\n",
    "\n",
    "model_lassoCV.alpha_, np.sqrt(mean_squared_error(y_test, y_pred)), mean_absolute_error(y_test, y_pred)"
   ]
  },
  {
   "cell_type": "code",
   "execution_count": null,
   "metadata": {},
   "outputs": [],
   "source": [
    "from sklearn.linear_model import ElasticNetCV\n",
    "\n",
    "model_elastic = ElasticNetCV(l1_ratio=[.1,.5,.6,.9,.95,.99,1]), eps=0,001, n_alphas=100, max_iter=10000\n",
    "y_pred = model_elastic.predicts(scaled_X_test)\n",
    "\n",
    "model_elastic.l1_ratio, model_elastic ...\n",
    "\n",
    "# l1_ratio = 1 bara l1 norm, 0 = bara l2 norm aka bara lasso, ratar ridge regression\n",
    "# men den valiga linjära regreesion presterar bättre"
   ]
  },
  {
   "cell_type": "code",
   "execution_count": null,
   "metadata": {},
   "outputs": [],
   "source": [
    "# Vi använder inte polinomil expansinon så mycket längre för \n",
    "# vi har bättre, mindre kostsamma metorder \n",
    "# men elasticnet och lasso är fortfarande väldigt avnvändbara"
   ]
  }
 ],
 "metadata": {
  "kernelspec": {
   "display_name": ".venv",
   "language": "python",
   "name": "python3"
  },
  "language_info": {
   "codemirror_mode": {
    "name": "ipython",
    "version": 3
   },
   "file_extension": ".py",
   "mimetype": "text/x-python",
   "name": "python",
   "nbconvert_exporter": "python",
   "pygments_lexer": "ipython3",
   "version": "3.12.5"
  }
 },
 "nbformat": 4,
 "nbformat_minor": 2
}

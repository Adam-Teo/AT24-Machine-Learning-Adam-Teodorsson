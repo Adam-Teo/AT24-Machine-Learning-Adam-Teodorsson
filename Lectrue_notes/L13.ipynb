{
 "cells": [
  {
   "cell_type": "code",
   "execution_count": 13,
   "metadata": {},
   "outputs": [
    {
     "data": {
      "application/vnd.microsoft.datawrangler.viewer.v0+json": {
       "columns": [
        {
         "name": "index",
         "rawType": "int64",
         "type": "integer"
        },
        {
         "name": "UserId",
         "rawType": "int64",
         "type": "integer"
        },
        {
         "name": "Game",
         "rawType": "object",
         "type": "string"
        },
        {
         "name": "Activity",
         "rawType": "object",
         "type": "string"
        },
        {
         "name": "Value",
         "rawType": "float64",
         "type": "float"
        }
       ],
       "conversionMethod": "pd.DataFrame",
       "ref": "9cd9f9c5-1547-46f1-8596-76b4ddb6b800",
       "rows": [
        [
         "0",
         "151603712",
         "The Elder Scrolls V Skyrim",
         "purchase",
         "1.0"
        ],
        [
         "1",
         "151603712",
         "The Elder Scrolls V Skyrim",
         "play",
         "273.0"
        ],
        [
         "2",
         "151603712",
         "Fallout 4",
         "purchase",
         "1.0"
        ],
        [
         "3",
         "151603712",
         "Fallout 4",
         "play",
         "87.0"
        ],
        [
         "4",
         "151603712",
         "Spore",
         "purchase",
         "1.0"
        ]
       ],
       "shape": {
        "columns": 4,
        "rows": 5
       }
      },
      "text/html": [
       "<div>\n",
       "<style scoped>\n",
       "    .dataframe tbody tr th:only-of-type {\n",
       "        vertical-align: middle;\n",
       "    }\n",
       "\n",
       "    .dataframe tbody tr th {\n",
       "        vertical-align: top;\n",
       "    }\n",
       "\n",
       "    .dataframe thead th {\n",
       "        text-align: right;\n",
       "    }\n",
       "</style>\n",
       "<table border=\"1\" class=\"dataframe\">\n",
       "  <thead>\n",
       "    <tr style=\"text-align: right;\">\n",
       "      <th></th>\n",
       "      <th>UserId</th>\n",
       "      <th>Game</th>\n",
       "      <th>Activity</th>\n",
       "      <th>Value</th>\n",
       "    </tr>\n",
       "  </thead>\n",
       "  <tbody>\n",
       "    <tr>\n",
       "      <th>0</th>\n",
       "      <td>151603712</td>\n",
       "      <td>The Elder Scrolls V Skyrim</td>\n",
       "      <td>purchase</td>\n",
       "      <td>1.0</td>\n",
       "    </tr>\n",
       "    <tr>\n",
       "      <th>1</th>\n",
       "      <td>151603712</td>\n",
       "      <td>The Elder Scrolls V Skyrim</td>\n",
       "      <td>play</td>\n",
       "      <td>273.0</td>\n",
       "    </tr>\n",
       "    <tr>\n",
       "      <th>2</th>\n",
       "      <td>151603712</td>\n",
       "      <td>Fallout 4</td>\n",
       "      <td>purchase</td>\n",
       "      <td>1.0</td>\n",
       "    </tr>\n",
       "    <tr>\n",
       "      <th>3</th>\n",
       "      <td>151603712</td>\n",
       "      <td>Fallout 4</td>\n",
       "      <td>play</td>\n",
       "      <td>87.0</td>\n",
       "    </tr>\n",
       "    <tr>\n",
       "      <th>4</th>\n",
       "      <td>151603712</td>\n",
       "      <td>Spore</td>\n",
       "      <td>purchase</td>\n",
       "      <td>1.0</td>\n",
       "    </tr>\n",
       "  </tbody>\n",
       "</table>\n",
       "</div>"
      ],
      "text/plain": [
       "      UserId                        Game  Activity  Value\n",
       "0  151603712  The Elder Scrolls V Skyrim  purchase    1.0\n",
       "1  151603712  The Elder Scrolls V Skyrim      play  273.0\n",
       "2  151603712                   Fallout 4  purchase    1.0\n",
       "3  151603712                   Fallout 4      play   87.0\n",
       "4  151603712                       Spore  purchase    1.0"
      ]
     },
     "execution_count": 13,
     "metadata": {},
     "output_type": "execute_result"
    }
   ],
   "source": [
    "import pandas as pd \n",
    "steam = pd.read_csv(\"../data/steam-200k.csv\", names=[\"UserId\", \"Game\", \"Activity\", \"Value\", \"Unused\"])\n",
    "steam.drop(columns=\"Unused\", inplace=True)\n",
    "steam.head()\n",
    "#steam.describe()\n"
   ]
  },
  {
   "cell_type": "code",
   "execution_count": 15,
   "metadata": {},
   "outputs": [
    {
     "data": {
      "application/vnd.microsoft.datawrangler.viewer.v0+json": {
       "columns": [
        {
         "name": "index",
         "rawType": "int64",
         "type": "integer"
        },
        {
         "name": "Unnamed: 0",
         "rawType": "int64",
         "type": "integer"
        },
        {
         "name": "User_ID",
         "rawType": "object",
         "type": "string"
        },
        {
         "name": "Age",
         "rawType": "int64",
         "type": "integer"
        },
        {
         "name": "Gender",
         "rawType": "object",
         "type": "string"
        },
        {
         "name": "Location",
         "rawType": "object",
         "type": "string"
        },
        {
         "name": "Income",
         "rawType": "int64",
         "type": "integer"
        },
        {
         "name": "Interests",
         "rawType": "object",
         "type": "string"
        },
        {
         "name": "Last_Login_Days_Ago",
         "rawType": "int64",
         "type": "integer"
        },
        {
         "name": "Purchase_Frequency",
         "rawType": "int64",
         "type": "integer"
        },
        {
         "name": "Average_Order_Value",
         "rawType": "int64",
         "type": "integer"
        },
        {
         "name": "Total_Spending",
         "rawType": "int64",
         "type": "integer"
        },
        {
         "name": "Product_Category_Preference",
         "rawType": "object",
         "type": "string"
        },
        {
         "name": "Time_Spent_on_Site_Minutes",
         "rawType": "int64",
         "type": "integer"
        },
        {
         "name": "Pages_Viewed",
         "rawType": "int64",
         "type": "integer"
        },
        {
         "name": "Newsletter_Subscription",
         "rawType": "bool",
         "type": "boolean"
        }
       ],
       "conversionMethod": "pd.DataFrame",
       "ref": "6fdaa1fe-9d54-4b0c-a995-93b02e6ee054",
       "rows": [
        [
         "0",
         "0",
         "#1",
         "56",
         "Male",
         "Suburban",
         "38037",
         "Sports",
         "5",
         "7",
         "18",
         "2546",
         "Books",
         "584",
         "38",
         "True"
        ],
        [
         "1",
         "1",
         "#2",
         "46",
         "Female",
         "Rural",
         "103986",
         "Technology",
         "15",
         "7",
         "118",
         "320",
         "Electronics",
         "432",
         "40",
         "False"
        ],
        [
         "2",
         "2",
         "#3",
         "32",
         "Female",
         "Suburban",
         "101942",
         "Sports",
         "28",
         "1",
         "146",
         "3766",
         "Apparel",
         "306",
         "1",
         "True"
        ],
        [
         "3",
         "3",
         "#4",
         "60",
         "Female",
         "Suburban",
         "71612",
         "Fashion",
         "18",
         "3",
         "163",
         "4377",
         "Apparel",
         "527",
         "29",
         "False"
        ],
        [
         "4",
         "4",
         "#5",
         "25",
         "Male",
         "Suburban",
         "49725",
         "Travel",
         "2",
         "5",
         "141",
         "4502",
         "Health & Beauty",
         "53",
         "10",
         "True"
        ]
       ],
       "shape": {
        "columns": 15,
        "rows": 5
       }
      },
      "text/html": [
       "<div>\n",
       "<style scoped>\n",
       "    .dataframe tbody tr th:only-of-type {\n",
       "        vertical-align: middle;\n",
       "    }\n",
       "\n",
       "    .dataframe tbody tr th {\n",
       "        vertical-align: top;\n",
       "    }\n",
       "\n",
       "    .dataframe thead th {\n",
       "        text-align: right;\n",
       "    }\n",
       "</style>\n",
       "<table border=\"1\" class=\"dataframe\">\n",
       "  <thead>\n",
       "    <tr style=\"text-align: right;\">\n",
       "      <th></th>\n",
       "      <th>Unnamed: 0</th>\n",
       "      <th>User_ID</th>\n",
       "      <th>Age</th>\n",
       "      <th>Gender</th>\n",
       "      <th>Location</th>\n",
       "      <th>Income</th>\n",
       "      <th>Interests</th>\n",
       "      <th>Last_Login_Days_Ago</th>\n",
       "      <th>Purchase_Frequency</th>\n",
       "      <th>Average_Order_Value</th>\n",
       "      <th>Total_Spending</th>\n",
       "      <th>Product_Category_Preference</th>\n",
       "      <th>Time_Spent_on_Site_Minutes</th>\n",
       "      <th>Pages_Viewed</th>\n",
       "      <th>Newsletter_Subscription</th>\n",
       "    </tr>\n",
       "  </thead>\n",
       "  <tbody>\n",
       "    <tr>\n",
       "      <th>0</th>\n",
       "      <td>0</td>\n",
       "      <td>#1</td>\n",
       "      <td>56</td>\n",
       "      <td>Male</td>\n",
       "      <td>Suburban</td>\n",
       "      <td>38037</td>\n",
       "      <td>Sports</td>\n",
       "      <td>5</td>\n",
       "      <td>7</td>\n",
       "      <td>18</td>\n",
       "      <td>2546</td>\n",
       "      <td>Books</td>\n",
       "      <td>584</td>\n",
       "      <td>38</td>\n",
       "      <td>True</td>\n",
       "    </tr>\n",
       "    <tr>\n",
       "      <th>1</th>\n",
       "      <td>1</td>\n",
       "      <td>#2</td>\n",
       "      <td>46</td>\n",
       "      <td>Female</td>\n",
       "      <td>Rural</td>\n",
       "      <td>103986</td>\n",
       "      <td>Technology</td>\n",
       "      <td>15</td>\n",
       "      <td>7</td>\n",
       "      <td>118</td>\n",
       "      <td>320</td>\n",
       "      <td>Electronics</td>\n",
       "      <td>432</td>\n",
       "      <td>40</td>\n",
       "      <td>False</td>\n",
       "    </tr>\n",
       "    <tr>\n",
       "      <th>2</th>\n",
       "      <td>2</td>\n",
       "      <td>#3</td>\n",
       "      <td>32</td>\n",
       "      <td>Female</td>\n",
       "      <td>Suburban</td>\n",
       "      <td>101942</td>\n",
       "      <td>Sports</td>\n",
       "      <td>28</td>\n",
       "      <td>1</td>\n",
       "      <td>146</td>\n",
       "      <td>3766</td>\n",
       "      <td>Apparel</td>\n",
       "      <td>306</td>\n",
       "      <td>1</td>\n",
       "      <td>True</td>\n",
       "    </tr>\n",
       "    <tr>\n",
       "      <th>3</th>\n",
       "      <td>3</td>\n",
       "      <td>#4</td>\n",
       "      <td>60</td>\n",
       "      <td>Female</td>\n",
       "      <td>Suburban</td>\n",
       "      <td>71612</td>\n",
       "      <td>Fashion</td>\n",
       "      <td>18</td>\n",
       "      <td>3</td>\n",
       "      <td>163</td>\n",
       "      <td>4377</td>\n",
       "      <td>Apparel</td>\n",
       "      <td>527</td>\n",
       "      <td>29</td>\n",
       "      <td>False</td>\n",
       "    </tr>\n",
       "    <tr>\n",
       "      <th>4</th>\n",
       "      <td>4</td>\n",
       "      <td>#5</td>\n",
       "      <td>25</td>\n",
       "      <td>Male</td>\n",
       "      <td>Suburban</td>\n",
       "      <td>49725</td>\n",
       "      <td>Travel</td>\n",
       "      <td>2</td>\n",
       "      <td>5</td>\n",
       "      <td>141</td>\n",
       "      <td>4502</td>\n",
       "      <td>Health &amp; Beauty</td>\n",
       "      <td>53</td>\n",
       "      <td>10</td>\n",
       "      <td>True</td>\n",
       "    </tr>\n",
       "  </tbody>\n",
       "</table>\n",
       "</div>"
      ],
      "text/plain": [
       "   Unnamed: 0 User_ID  Age  Gender  Location  Income   Interests  \\\n",
       "0           0      #1   56    Male  Suburban   38037      Sports   \n",
       "1           1      #2   46  Female     Rural  103986  Technology   \n",
       "2           2      #3   32  Female  Suburban  101942      Sports   \n",
       "3           3      #4   60  Female  Suburban   71612     Fashion   \n",
       "4           4      #5   25    Male  Suburban   49725      Travel   \n",
       "\n",
       "   Last_Login_Days_Ago  Purchase_Frequency  Average_Order_Value  \\\n",
       "0                    5                   7                   18   \n",
       "1                   15                   7                  118   \n",
       "2                   28                   1                  146   \n",
       "3                   18                   3                  163   \n",
       "4                    2                   5                  141   \n",
       "\n",
       "   Total_Spending Product_Category_Preference  Time_Spent_on_Site_Minutes  \\\n",
       "0            2546                       Books                         584   \n",
       "1             320                 Electronics                         432   \n",
       "2            3766                     Apparel                         306   \n",
       "3            4377                     Apparel                         527   \n",
       "4            4502             Health & Beauty                          53   \n",
       "\n",
       "   Pages_Viewed  Newsletter_Subscription  \n",
       "0            38                     True  \n",
       "1            40                    False  \n",
       "2             1                     True  \n",
       "3            29                    False  \n",
       "4            10                     True  "
      ]
     },
     "execution_count": 15,
     "metadata": {},
     "output_type": "execute_result"
    }
   ],
   "source": [
    "\n",
    "user = pd.read_csv(\"../data/user_personalized_features.csv\")\n",
    "user.head()"
   ]
  },
  {
   "cell_type": "code",
   "execution_count": null,
   "metadata": {},
   "outputs": [],
   "source": [
    "#kaggle ml-latest movie\n",
    "#https://www.kaggle.com/datasets/shubhammehta21/movie-lens-small-latest-dataset"
   ]
  },
  {
   "cell_type": "markdown",
   "metadata": {},
   "source": [
    "# Tuttorial \n",
    "___"
   ]
  },
  {
   "cell_type": "code",
   "execution_count": null,
   "metadata": {},
   "outputs": [],
   "source": [
    "# https://www.geeksforgeeks.org/build-a-recommendation-engine-with-collaborative-filtering/\n",
    "\n",
    "user = pd.read_csv(\"../data/User.csv\")\n",
    "books = pd.read_csv(\"../data/Books.csv\")\n",
    "ratings = pd.read_csv(\"../data/Ratings.csv\")"
   ]
  },
  {
   "cell_type": "code",
   "execution_count": null,
   "metadata": {},
   "outputs": [],
   "source": [
    "books.info()"
   ]
  },
  {
   "cell_type": "code",
   "execution_count": null,
   "metadata": {},
   "outputs": [],
   "source": [
    "books[books[\"Book-Title\"].duplicated()].sort_values(\"Book-Title\")\n",
    "new_books = books.drop_duplicates(\"Book-Title\")\n",
    "books.info()"
   ]
  },
  {
   "cell_type": "code",
   "execution_count": null,
   "metadata": {},
   "outputs": [],
   "source": [
    "ratings_with_name = rarings.merge(new_books, on=\"ISBN\")\n",
    "ratings_with_name = rarings.merge([\"ISBN\", \"Image-URL-S\", \"Image-URL-M\", \"Image-URL-L\", \"Publisher\"], axis=1, inplace=True)\n",
    "ratings_with_name.head()"
   ]
  },
  {
   "cell_type": "code",
   "execution_count": null,
   "metadata": {},
   "outputs": [],
   "source": [
    "matrix = ratings_with_name.merge(user, on=\"User-ID\")\n",
    "\n",
    "user_rating_matrix.head()"
   ]
  },
  {
   "cell_type": "code",
   "execution_count": null,
   "metadata": {},
   "outputs": [],
   "source": [
    "ratings_with_name.isna().sum()\n",
    "ratings_with_name.drop_na(inplace=True)"
   ]
  },
  {
   "cell_type": "code",
   "execution_count": 26,
   "metadata": {},
   "outputs": [
    {
     "ename": "NameError",
     "evalue": "name 'rating_with_name' is not defined",
     "output_type": "error",
     "traceback": [
      "\u001b[1;31m---------------------------------------------------------------------------\u001b[0m",
      "\u001b[1;31mNameError\u001b[0m                                 Traceback (most recent call last)",
      "Cell \u001b[1;32mIn[26], line 1\u001b[0m\n\u001b[1;32m----> 1\u001b[0m x \u001b[38;5;241m=\u001b[39m \u001b[43mrating_with_name\u001b[49m\u001b[38;5;241m.\u001b[39mgroupby(\u001b[38;5;124m\"\u001b[39m\u001b[38;5;124mUser-ID\u001b[39m\u001b[38;5;124m\"\u001b[39m)\u001b[38;5;241m.\u001b[39mcount()[\u001b[38;5;124m\"\u001b[39m\u001b[38;5;124mBook-Rating\u001b[39m\u001b[38;5;124m\"\u001b[39m] \u001b[38;5;241m>\u001b[39m \u001b[38;5;241m100\u001b[39m \n\u001b[0;32m      2\u001b[0m expert_users \u001b[38;5;241m=\u001b[39m x[x]\u001b[38;5;241m.\u001b[39mindex\n\u001b[0;32m      3\u001b[0m expert_users\n",
      "\u001b[1;31mNameError\u001b[0m: name 'rating_with_name' is not defined"
     ]
    }
   ],
   "source": [
    "x = rating_with_name.groupby(\"User-ID\").count()[\"Book-Rating\"] > 100 \n",
    "expert_users = x[x].index\n",
    "expert_users\n",
    "\n",
    "filtered_user_ratings = ratings_with_name[ratings_with_name[\"User-ID\"].isin(expert_users)]\n",
    "\n",
    "y = filtered_user_ratings.goupby(\"Book-Title\").count()[\"Book-Rating\"] >= 50\n",
    "famous_books = y[y].index\n",
    "user_ratings = filtered_user_ratings[filtered_user_ratings[\"Book-Title\"].isin(famous_books)"
   ]
  },
  {
   "cell_type": "code",
   "execution_count": null,
   "metadata": {},
   "outputs": [],
   "source": [
    "design_matris = user_ratings.pivot_tables"
   ]
  },
  {
   "cell_type": "code",
   "execution_count": 25,
   "metadata": {},
   "outputs": [
    {
     "data": {
      "text/plain": [
       "Index([0, 1, 2, 3, 4, 5, 6, 7, 8, 9], dtype='int64')"
      ]
     },
     "execution_count": 25,
     "metadata": {},
     "output_type": "execute_result"
    }
   ],
   "source": [
    "t1 = pd.Series(range(10))\n",
    "t1[t1].index\n"
   ]
  },
  {
   "cell_type": "code",
   "execution_count": null,
   "metadata": {},
   "outputs": [],
   "source": [
    "from sklearn.preprocessing import StandardScaler\n",
    "from sklearn.metrics.pairwise import cosine_similarity\n",
    "\n",
    "scaler = StandardScaler(with_mean=True, with_std=True)\n",
    "design_matrix_centered  = scaler.fit_transform(design_matrix)"
   ]
  },
  {
   "cell_type": "code",
   "execution_count": null,
   "metadata": {},
   "outputs": [],
   "source": [
    "similarity_score = cosine_similarity(design_matrix_centered)\n",
    "similarity_score\n",
    "# Vi kan igentligen bar ta max värdet"
   ]
  },
  {
   "cell_type": "code",
   "execution_count": null,
   "metadata": {},
   "outputs": [],
   "source": [
    "import numpy as np\n",
    "def recommend(book_name):\n",
    "    index = np.where(design_matrix_centered.index==book_name)[0][0]\n",
    "    similar_books = sorted(list(list(enumerate(similarity_score[index])), key=lambda x: x[1], reverse=True)[1:6]\n",
    "    data = []\n",
    "\n",
    "    for index, similarity in similar_books:\n",
    "        item = []\n",
    "        temp_def = new_books[\"Book-Title\"]==design_matrix.index[index]"
   ]
  },
  {
   "cell_type": "code",
   "execution_count": null,
   "metadata": {},
   "outputs": [],
   "source": [
    "# Application\n",
    "import pandas as pd \n",
    "import numpy as np\n",
    "from sklearn.preprocessing import StandardScaler\n",
    "from sklearn.metrics.pairwise import cosine_similarity\n",
    "\n",
    "def load_data_files():\n",
    "    books = pd.read_cv(\"../data/Books.csv\")\n",
    "    ratings = pd.read_cv(\"../data/Ratings.csv\")\n",
    "    books.drop_duplicates(\"Book-Title\",inplace=True)\n",
    "    merged = ratings.merge(books, on=\"ISBN\")\n",
    "    merged.drop([\"ISBN\", \"Image-URL-S\", \"Image-URL-M\", \"Image-URL-L\", \"Publisher\"], axis=1, inplace=True)\n",
    "    merged.dropna(inplace=True)\n",
    "    return merged, merged\n",
    "\n",
    "# Problement med tabellen är att det finns förmånga rader, det är för mycket data för att hålla i RAM minnet\n",
    "def extract_features(raw_table):\n",
    "    # Ett filter för att solla bort alla som inte är expert users\n",
    "    x = raw_table.groupby(\"User-ID\").count()[\"Book-Ratings\"] > 100\n",
    "    expert_users = x[x].index # index av boolean pandas series\n",
    "\n",
    "    filtered_ratings = raw_table[raw_table[\"User-ID\"].isin(expert_users)]\n",
    "    \n",
    "    y = filtered_ratings.groupby(\"Book-Title\").count()[\"Book-Rating\"] >= 50\n",
    "    famous_books = y[y]\n",
    "    user_ratings = filtered_ratings[filtered_ratings[\"Book-Title\"].isin(famous_books)]# index av boolean pandas series\n",
    "\n",
    "\n",
    "def make_model(matrix):\n",
    "    scaler = StandardScaler(with_mean=True, with_std=True)\n",
    "    scaled = scaler.fit_transform(matrix)\n",
    "    sim_score = cosine_similarity(scaled)\n",
    "    return sim_score\n",
    "\n",
    "def recommend(book_name, table, design_matrix, similarity_score):\n",
    "    item = np.where(design_matrix.index==book_name)[0][0]\n",
    "    similar_books = sorted(list(enumerate(similarity_score[index])), key=lambda x: x[1], reverse=True)[1:6]\n",
    "                           \n",
    "    data = []\n",
    "    for index, _ in similar_books:\n",
    "        item=[]\n",
    "        temp_df = table[table[\"Book-Title\"]==design_matrix.index[index]]\n",
    "        item.extend(temp_df[\"Book-Title\"].values)\n",
    "        item.extend(temp_df[\"Book-Author\"].values)\n",
    "        data.append(item)\n",
    "    #temp_df = new_books[new_books][\"Book-Title\"]==design_matris\n",
    "    return data\n",
    "   \n",
    "\n",
    "def main():\n",
    "    books, table = load_data_files()\n",
    "    matrix = extract_features(table)\n",
    "    model =make_model(matrix)\n",
    "    name = input(\"Input a book name\")\n",
    "    print(recommend(name, books, matrix, model))\n",
    "\n",
    "if __name__ == '__main__':\n",
    "    main()\n",
    "# För att skapa en cell i .py fil\n",
    "#%% "
   ]
  }
 ],
 "metadata": {
  "kernelspec": {
   "display_name": ".venv",
   "language": "python",
   "name": "python3"
  },
  "language_info": {
   "codemirror_mode": {
    "name": "ipython",
    "version": 3
   },
   "file_extension": ".py",
   "mimetype": "text/x-python",
   "name": "python",
   "nbconvert_exporter": "python",
   "pygments_lexer": "ipython3",
   "version": "3.12.5"
  }
 },
 "nbformat": 4,
 "nbformat_minor": 2
}
